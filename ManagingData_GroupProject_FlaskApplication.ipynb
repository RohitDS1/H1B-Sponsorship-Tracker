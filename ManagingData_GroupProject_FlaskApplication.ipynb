{
 "cells": [
  {
   "cell_type": "code",
   "execution_count": null,
   "id": "4327633c",
   "metadata": {},
   "outputs": [],
   "source": [
    "from werkzeug.wrappers import Request, Response\n",
    "from flask import Flask, render_template\n",
    "import os\n",
    "\n",
    "app = Flask(\"H-1B Sponsorship\",\n",
    "            template_folder='/Users/rohit/opt/anaconda3/lib/python3.9/site-packages/flask/templates',\n",
    "            static_folder='/Users/rohit/opt/anaconda3/lib/python3.9/site-packages/flask/static')\n",
    "\n",
    "@app.route('/', methods=['GET'])\n",
    "def getH1Bdata():\n",
    "    return render_template('index.html')\n",
    "\n",
    "# Output\n",
    "if __name__ == '__main__':\n",
    "    from werkzeug.serving import run_simple\n",
    "    css_path = os.path.abspath('flask/static/CSS.css')\n",
    "    run_simple('localhost', 9002 , app, extra_files=[css_path])"
   ]
  }
 ],
 "metadata": {
  "kernelspec": {
   "display_name": "Python 3 (ipykernel)",
   "language": "python",
   "name": "python3"
  },
  "language_info": {
   "codemirror_mode": {
    "name": "ipython",
    "version": 3
   },
   "file_extension": ".py",
   "mimetype": "text/x-python",
   "name": "python",
   "nbconvert_exporter": "python",
   "pygments_lexer": "ipython3",
   "version": "3.9.13"
  }
 },
 "nbformat": 4,
 "nbformat_minor": 5
}
